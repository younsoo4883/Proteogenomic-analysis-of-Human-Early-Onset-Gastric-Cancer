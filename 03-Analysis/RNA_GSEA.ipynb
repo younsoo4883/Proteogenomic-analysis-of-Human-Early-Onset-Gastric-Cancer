{
 "cells": [
  {
   "cell_type": "code",
   "execution_count": 21,
   "id": "fa31e5df-933e-47f3-8786-07f8cbe9676e",
   "metadata": {},
   "outputs": [],
   "source": [
    "import gseapy as gp\n",
    "import pandas as pd\n",
    "import matplotlib.pyplot as plt"
   ]
  },
  {
   "cell_type": "code",
   "execution_count": null,
   "id": "7b1751a0-294f-4321-a829-5ff8b571f793",
   "metadata": {},
   "outputs": [],
   "source": [
    "def gsea_plot(cluster):\n",
    "    cluster_data = pd.read_csv(f\"/BiO2/Research/ipmi/gastric_cancer/RNA_{cluster}_log2_fold_change_value.csv\", index_col=0)\n",
    "    \n",
    "    gene_scores = cluster_data.mean(axis=1)\n",
    "    ranked_genes = gene_scores.sort_values(ascending=False).reset_index()\n",
    "    ranked_genes.columns = [\"Gene\", \"Score\"]\n",
    "    ranked_genes['Gene'] = ranked_genes['Gene'].str.upper()\n",
    "    ranked_genes.to_csv(f\"/BiO2/Research/ipmi/gastric_cancer/{cluster}_ranked_genes_uppercase.rnk\", sep=\"\\t\", index=False, header=False)\n",
    "    \n",
    "    pre_res = gp.prerank(\n",
    "        rnk=f\"/BiO2/Research/ipmi/gastric_cancer/{cluster}_ranked_genes_uppercase.rnk\",\n",
    "        gene_sets=\"KEGG_2016\",\n",
    "        outdir=\"gsea_results\",\n",
    "        min_size=5,  \n",
    "        max_size=5000,  \n",
    "        permutation_num=100\n",
    "    )\n",
    "    \n",
    "    gsea_result = pre_res.res2d\n",
    "    significant_pathways = gsea_result[gsea_result[\"FDR q-val\"].astype(float) < 0.05]\n",
    "    \n",
    "    output_dir = \"/BiO2/Research/ipmi/gastric_cancer/\"\n",
    "    for term in significant_pathways['Term']:\n",
    "        nom_pval = significant_pathways.loc[significant_pathways['Term'] == term, 'FDR q-val'].values[0]\n",
    "        nom_pval_formatted = f\"{nom_pval:.3f}\"\n",
    "        pathway = term.split(\" Homo\")[0] \n",
    "    \n",
    "        fig = pre_res.plot(terms=[term])\n",
    "        fig.suptitle(f\"GSEA result of RNA1 cluster of {pathway} (p-val: {nom_pval_formatted})\", fontsize=12, y=1.05)\n",
    "    \n",
    "        fig.savefig(f\"{output_dir}{cluster}_gsea_plot_{term}.pdf\", bbox_inches='tight')\n",
    "        plt.close(fig)"
   ]
  },
  {
   "cell_type": "code",
   "execution_count": null,
   "id": "17c0d2c0-3ad2-4e05-8606-c59a5351620b",
   "metadata": {},
   "outputs": [],
   "source": [
    "for i in [\"cluster1\", \"cluster2\"]:\n",
    "    gsea_plot(i)"
   ]
  }
 ],
 "metadata": {
  "kernelspec": {
   "display_name": "snowflake(3.9.18)",
   "language": "python",
   "name": "snowflake"
  },
  "language_info": {
   "codemirror_mode": {
    "name": "ipython",
    "version": 3
   },
   "file_extension": ".py",
   "mimetype": "text/x-python",
   "name": "python",
   "nbconvert_exporter": "python",
   "pygments_lexer": "ipython3",
   "version": "3.9.18"
  }
 },
 "nbformat": 4,
 "nbformat_minor": 5
}
